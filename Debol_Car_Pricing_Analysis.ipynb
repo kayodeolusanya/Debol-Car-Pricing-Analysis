{
  "nbformat": 4,
  "nbformat_minor": 0,
  "metadata": {
    "colab": {
      "provenance": [],
      "authorship_tag": "ABX9TyMdA6V4NxdxjsAh6SASbdLk",
      "include_colab_link": true
    },
    "kernelspec": {
      "name": "python3",
      "display_name": "Python 3"
    },
    "language_info": {
      "name": "python"
    }
  },
  "cells": [
    {
      "cell_type": "markdown",
      "metadata": {
        "id": "view-in-github",
        "colab_type": "text"
      },
      "source": [
        "<a href=\"https://colab.research.google.com/github/kayodeolusanya/Debol-Car-Pricing-Analysis/blob/main/Debol_Car_Pricing_Analysis.ipynb\" target=\"_parent\"><img src=\"https://colab.research.google.com/assets/colab-badge.svg\" alt=\"Open In Colab\"/></a>"
      ]
    },
    {
      "cell_type": "code",
      "execution_count": null,
      "metadata": {
        "id": "JNzKhsCp6bhy"
      },
      "outputs": [],
      "source": [
        "#Import Libraries\n",
        "import pandas as pd\n",
        "import seaborn as sb\n",
        "import matplotlib.pyplot as plt"
      ]
    },
    {
      "cell_type": "code",
      "source": [
        "#Load our data\n",
        "df = pd.read_csv('/content/car_data.csv')"
      ],
      "metadata": {
        "id": "d6yULgGv8mcj"
      },
      "execution_count": null,
      "outputs": []
    },
    {
      "cell_type": "code",
      "source": [
        "#View our data head\n",
        "df.head()"
      ],
      "metadata": {
        "colab": {
          "base_uri": "https://localhost:8080/",
          "height": 206
        },
        "id": "4aS6JIJw9Lu5",
        "outputId": "721f65e5-c5d4-4f41-bc0c-af92095ea7b2"
      },
      "execution_count": null,
      "outputs": [
        {
          "output_type": "execute_result",
          "data": {
            "text/plain": [
              "                                     name   company  year          Price  \\\n",
              "0    Hyundai Santro Xing XO eRLX Euro III   Hyundai  2007         80,000   \n",
              "1                 Mahindra Jeep CL550 MDI  Mahindra  2006       4,25,000   \n",
              "2              Maruti Suzuki Alto 800 Vxi    Maruti  2018  Ask For Price   \n",
              "3  Hyundai Grand i10 Magna 1.2 Kappa VTVT   Hyundai  2014       3,25,000   \n",
              "4        Ford EcoSport Titanium 1.5L TDCi      Ford  2014       5,75,000   \n",
              "\n",
              "   kms_driven fuel_type  \n",
              "0  45,000 kms    Petrol  \n",
              "1      40 kms    Diesel  \n",
              "2  22,000 kms    Petrol  \n",
              "3  28,000 kms    Petrol  \n",
              "4  36,000 kms    Diesel  "
            ],
            "text/html": [
              "\n",
              "  <div id=\"df-ea4295e2-fcf9-443e-8368-9b6eb064ede8\">\n",
              "    <div class=\"colab-df-container\">\n",
              "      <div>\n",
              "<style scoped>\n",
              "    .dataframe tbody tr th:only-of-type {\n",
              "        vertical-align: middle;\n",
              "    }\n",
              "\n",
              "    .dataframe tbody tr th {\n",
              "        vertical-align: top;\n",
              "    }\n",
              "\n",
              "    .dataframe thead th {\n",
              "        text-align: right;\n",
              "    }\n",
              "</style>\n",
              "<table border=\"1\" class=\"dataframe\">\n",
              "  <thead>\n",
              "    <tr style=\"text-align: right;\">\n",
              "      <th></th>\n",
              "      <th>name</th>\n",
              "      <th>company</th>\n",
              "      <th>year</th>\n",
              "      <th>Price</th>\n",
              "      <th>kms_driven</th>\n",
              "      <th>fuel_type</th>\n",
              "    </tr>\n",
              "  </thead>\n",
              "  <tbody>\n",
              "    <tr>\n",
              "      <th>0</th>\n",
              "      <td>Hyundai Santro Xing XO eRLX Euro III</td>\n",
              "      <td>Hyundai</td>\n",
              "      <td>2007</td>\n",
              "      <td>80,000</td>\n",
              "      <td>45,000 kms</td>\n",
              "      <td>Petrol</td>\n",
              "    </tr>\n",
              "    <tr>\n",
              "      <th>1</th>\n",
              "      <td>Mahindra Jeep CL550 MDI</td>\n",
              "      <td>Mahindra</td>\n",
              "      <td>2006</td>\n",
              "      <td>4,25,000</td>\n",
              "      <td>40 kms</td>\n",
              "      <td>Diesel</td>\n",
              "    </tr>\n",
              "    <tr>\n",
              "      <th>2</th>\n",
              "      <td>Maruti Suzuki Alto 800 Vxi</td>\n",
              "      <td>Maruti</td>\n",
              "      <td>2018</td>\n",
              "      <td>Ask For Price</td>\n",
              "      <td>22,000 kms</td>\n",
              "      <td>Petrol</td>\n",
              "    </tr>\n",
              "    <tr>\n",
              "      <th>3</th>\n",
              "      <td>Hyundai Grand i10 Magna 1.2 Kappa VTVT</td>\n",
              "      <td>Hyundai</td>\n",
              "      <td>2014</td>\n",
              "      <td>3,25,000</td>\n",
              "      <td>28,000 kms</td>\n",
              "      <td>Petrol</td>\n",
              "    </tr>\n",
              "    <tr>\n",
              "      <th>4</th>\n",
              "      <td>Ford EcoSport Titanium 1.5L TDCi</td>\n",
              "      <td>Ford</td>\n",
              "      <td>2014</td>\n",
              "      <td>5,75,000</td>\n",
              "      <td>36,000 kms</td>\n",
              "      <td>Diesel</td>\n",
              "    </tr>\n",
              "  </tbody>\n",
              "</table>\n",
              "</div>\n",
              "      <button class=\"colab-df-convert\" onclick=\"convertToInteractive('df-ea4295e2-fcf9-443e-8368-9b6eb064ede8')\"\n",
              "              title=\"Convert this dataframe to an interactive table.\"\n",
              "              style=\"display:none;\">\n",
              "        \n",
              "  <svg xmlns=\"http://www.w3.org/2000/svg\" height=\"24px\"viewBox=\"0 0 24 24\"\n",
              "       width=\"24px\">\n",
              "    <path d=\"M0 0h24v24H0V0z\" fill=\"none\"/>\n",
              "    <path d=\"M18.56 5.44l.94 2.06.94-2.06 2.06-.94-2.06-.94-.94-2.06-.94 2.06-2.06.94zm-11 1L8.5 8.5l.94-2.06 2.06-.94-2.06-.94L8.5 2.5l-.94 2.06-2.06.94zm10 10l.94 2.06.94-2.06 2.06-.94-2.06-.94-.94-2.06-.94 2.06-2.06.94z\"/><path d=\"M17.41 7.96l-1.37-1.37c-.4-.4-.92-.59-1.43-.59-.52 0-1.04.2-1.43.59L10.3 9.45l-7.72 7.72c-.78.78-.78 2.05 0 2.83L4 21.41c.39.39.9.59 1.41.59.51 0 1.02-.2 1.41-.59l7.78-7.78 2.81-2.81c.8-.78.8-2.07 0-2.86zM5.41 20L4 18.59l7.72-7.72 1.47 1.35L5.41 20z\"/>\n",
              "  </svg>\n",
              "      </button>\n",
              "      \n",
              "  <style>\n",
              "    .colab-df-container {\n",
              "      display:flex;\n",
              "      flex-wrap:wrap;\n",
              "      gap: 12px;\n",
              "    }\n",
              "\n",
              "    .colab-df-convert {\n",
              "      background-color: #E8F0FE;\n",
              "      border: none;\n",
              "      border-radius: 50%;\n",
              "      cursor: pointer;\n",
              "      display: none;\n",
              "      fill: #1967D2;\n",
              "      height: 32px;\n",
              "      padding: 0 0 0 0;\n",
              "      width: 32px;\n",
              "    }\n",
              "\n",
              "    .colab-df-convert:hover {\n",
              "      background-color: #E2EBFA;\n",
              "      box-shadow: 0px 1px 2px rgba(60, 64, 67, 0.3), 0px 1px 3px 1px rgba(60, 64, 67, 0.15);\n",
              "      fill: #174EA6;\n",
              "    }\n",
              "\n",
              "    [theme=dark] .colab-df-convert {\n",
              "      background-color: #3B4455;\n",
              "      fill: #D2E3FC;\n",
              "    }\n",
              "\n",
              "    [theme=dark] .colab-df-convert:hover {\n",
              "      background-color: #434B5C;\n",
              "      box-shadow: 0px 1px 3px 1px rgba(0, 0, 0, 0.15);\n",
              "      filter: drop-shadow(0px 1px 2px rgba(0, 0, 0, 0.3));\n",
              "      fill: #FFFFFF;\n",
              "    }\n",
              "  </style>\n",
              "\n",
              "      <script>\n",
              "        const buttonEl =\n",
              "          document.querySelector('#df-ea4295e2-fcf9-443e-8368-9b6eb064ede8 button.colab-df-convert');\n",
              "        buttonEl.style.display =\n",
              "          google.colab.kernel.accessAllowed ? 'block' : 'none';\n",
              "\n",
              "        async function convertToInteractive(key) {\n",
              "          const element = document.querySelector('#df-ea4295e2-fcf9-443e-8368-9b6eb064ede8');\n",
              "          const dataTable =\n",
              "            await google.colab.kernel.invokeFunction('convertToInteractive',\n",
              "                                                     [key], {});\n",
              "          if (!dataTable) return;\n",
              "\n",
              "          const docLinkHtml = 'Like what you see? Visit the ' +\n",
              "            '<a target=\"_blank\" href=https://colab.research.google.com/notebooks/data_table.ipynb>data table notebook</a>'\n",
              "            + ' to learn more about interactive tables.';\n",
              "          element.innerHTML = '';\n",
              "          dataTable['output_type'] = 'display_data';\n",
              "          await google.colab.output.renderOutput(dataTable, element);\n",
              "          const docLink = document.createElement('div');\n",
              "          docLink.innerHTML = docLinkHtml;\n",
              "          element.appendChild(docLink);\n",
              "        }\n",
              "      </script>\n",
              "    </div>\n",
              "  </div>\n",
              "  "
            ]
          },
          "metadata": {},
          "execution_count": 3
        }
      ]
    },
    {
      "cell_type": "code",
      "source": [
        "df.shape"
      ],
      "metadata": {
        "colab": {
          "base_uri": "https://localhost:8080/"
        },
        "id": "rXtLIJJR9diw",
        "outputId": "65f2f17e-6145-4d47-b17c-fdfe12405e7c"
      },
      "execution_count": null,
      "outputs": [
        {
          "output_type": "execute_result",
          "data": {
            "text/plain": [
              "(892, 6)"
            ]
          },
          "metadata": {},
          "execution_count": 4
        }
      ]
    },
    {
      "cell_type": "code",
      "source": [
        "df.columns"
      ],
      "metadata": {
        "colab": {
          "base_uri": "https://localhost:8080/"
        },
        "id": "tinm-_VB-IB4",
        "outputId": "73dd067f-9535-4d29-8fd6-ca58990d995b"
      },
      "execution_count": null,
      "outputs": [
        {
          "output_type": "execute_result",
          "data": {
            "text/plain": [
              "Index(['name', 'company', 'year', 'Price', 'kms_driven', 'fuel_type'], dtype='object')"
            ]
          },
          "metadata": {},
          "execution_count": 5
        }
      ]
    },
    {
      "cell_type": "code",
      "source": [
        "#Data Cleaning\n",
        "df"
      ],
      "metadata": {
        "colab": {
          "base_uri": "https://localhost:8080/",
          "height": 424
        },
        "id": "ESFyb-9J-L1R",
        "outputId": "8bb0e269-0c00-48ad-e66d-a02a5827f4fa"
      },
      "execution_count": null,
      "outputs": [
        {
          "output_type": "execute_result",
          "data": {
            "text/plain": [
              "                                       name    company  year          Price  \\\n",
              "0      Hyundai Santro Xing XO eRLX Euro III    Hyundai  2007         80,000   \n",
              "1                   Mahindra Jeep CL550 MDI   Mahindra  2006       4,25,000   \n",
              "2                Maruti Suzuki Alto 800 Vxi     Maruti  2018  Ask For Price   \n",
              "3    Hyundai Grand i10 Magna 1.2 Kappa VTVT    Hyundai  2014       3,25,000   \n",
              "4          Ford EcoSport Titanium 1.5L TDCi       Ford  2014       5,75,000   \n",
              "..                                      ...        ...   ...            ...   \n",
              "887                                      Ta       Tara  zest       3,10,000   \n",
              "888                     Tata Zest XM Diesel       Tata  2018       2,60,000   \n",
              "889                      Mahindra Quanto C8   Mahindra  2013       3,90,000   \n",
              "890                Honda Amaze 1.2 E i VTEC      Honda  2014       1,80,000   \n",
              "891               Chevrolet Sail 1.2 LT ABS  Chevrolet  2014       1,60,000   \n",
              "\n",
              "     kms_driven fuel_type  \n",
              "0    45,000 kms    Petrol  \n",
              "1        40 kms    Diesel  \n",
              "2    22,000 kms    Petrol  \n",
              "3    28,000 kms    Petrol  \n",
              "4    36,000 kms    Diesel  \n",
              "..          ...       ...  \n",
              "887         NaN       NaN  \n",
              "888  27,000 kms    Diesel  \n",
              "889  40,000 kms    Diesel  \n",
              "890      Petrol       NaN  \n",
              "891      Petrol       NaN  \n",
              "\n",
              "[892 rows x 6 columns]"
            ],
            "text/html": [
              "\n",
              "  <div id=\"df-ca3d1103-468a-4a31-96e4-039171c8afa3\">\n",
              "    <div class=\"colab-df-container\">\n",
              "      <div>\n",
              "<style scoped>\n",
              "    .dataframe tbody tr th:only-of-type {\n",
              "        vertical-align: middle;\n",
              "    }\n",
              "\n",
              "    .dataframe tbody tr th {\n",
              "        vertical-align: top;\n",
              "    }\n",
              "\n",
              "    .dataframe thead th {\n",
              "        text-align: right;\n",
              "    }\n",
              "</style>\n",
              "<table border=\"1\" class=\"dataframe\">\n",
              "  <thead>\n",
              "    <tr style=\"text-align: right;\">\n",
              "      <th></th>\n",
              "      <th>name</th>\n",
              "      <th>company</th>\n",
              "      <th>year</th>\n",
              "      <th>Price</th>\n",
              "      <th>kms_driven</th>\n",
              "      <th>fuel_type</th>\n",
              "    </tr>\n",
              "  </thead>\n",
              "  <tbody>\n",
              "    <tr>\n",
              "      <th>0</th>\n",
              "      <td>Hyundai Santro Xing XO eRLX Euro III</td>\n",
              "      <td>Hyundai</td>\n",
              "      <td>2007</td>\n",
              "      <td>80,000</td>\n",
              "      <td>45,000 kms</td>\n",
              "      <td>Petrol</td>\n",
              "    </tr>\n",
              "    <tr>\n",
              "      <th>1</th>\n",
              "      <td>Mahindra Jeep CL550 MDI</td>\n",
              "      <td>Mahindra</td>\n",
              "      <td>2006</td>\n",
              "      <td>4,25,000</td>\n",
              "      <td>40 kms</td>\n",
              "      <td>Diesel</td>\n",
              "    </tr>\n",
              "    <tr>\n",
              "      <th>2</th>\n",
              "      <td>Maruti Suzuki Alto 800 Vxi</td>\n",
              "      <td>Maruti</td>\n",
              "      <td>2018</td>\n",
              "      <td>Ask For Price</td>\n",
              "      <td>22,000 kms</td>\n",
              "      <td>Petrol</td>\n",
              "    </tr>\n",
              "    <tr>\n",
              "      <th>3</th>\n",
              "      <td>Hyundai Grand i10 Magna 1.2 Kappa VTVT</td>\n",
              "      <td>Hyundai</td>\n",
              "      <td>2014</td>\n",
              "      <td>3,25,000</td>\n",
              "      <td>28,000 kms</td>\n",
              "      <td>Petrol</td>\n",
              "    </tr>\n",
              "    <tr>\n",
              "      <th>4</th>\n",
              "      <td>Ford EcoSport Titanium 1.5L TDCi</td>\n",
              "      <td>Ford</td>\n",
              "      <td>2014</td>\n",
              "      <td>5,75,000</td>\n",
              "      <td>36,000 kms</td>\n",
              "      <td>Diesel</td>\n",
              "    </tr>\n",
              "    <tr>\n",
              "      <th>...</th>\n",
              "      <td>...</td>\n",
              "      <td>...</td>\n",
              "      <td>...</td>\n",
              "      <td>...</td>\n",
              "      <td>...</td>\n",
              "      <td>...</td>\n",
              "    </tr>\n",
              "    <tr>\n",
              "      <th>887</th>\n",
              "      <td>Ta</td>\n",
              "      <td>Tara</td>\n",
              "      <td>zest</td>\n",
              "      <td>3,10,000</td>\n",
              "      <td>NaN</td>\n",
              "      <td>NaN</td>\n",
              "    </tr>\n",
              "    <tr>\n",
              "      <th>888</th>\n",
              "      <td>Tata Zest XM Diesel</td>\n",
              "      <td>Tata</td>\n",
              "      <td>2018</td>\n",
              "      <td>2,60,000</td>\n",
              "      <td>27,000 kms</td>\n",
              "      <td>Diesel</td>\n",
              "    </tr>\n",
              "    <tr>\n",
              "      <th>889</th>\n",
              "      <td>Mahindra Quanto C8</td>\n",
              "      <td>Mahindra</td>\n",
              "      <td>2013</td>\n",
              "      <td>3,90,000</td>\n",
              "      <td>40,000 kms</td>\n",
              "      <td>Diesel</td>\n",
              "    </tr>\n",
              "    <tr>\n",
              "      <th>890</th>\n",
              "      <td>Honda Amaze 1.2 E i VTEC</td>\n",
              "      <td>Honda</td>\n",
              "      <td>2014</td>\n",
              "      <td>1,80,000</td>\n",
              "      <td>Petrol</td>\n",
              "      <td>NaN</td>\n",
              "    </tr>\n",
              "    <tr>\n",
              "      <th>891</th>\n",
              "      <td>Chevrolet Sail 1.2 LT ABS</td>\n",
              "      <td>Chevrolet</td>\n",
              "      <td>2014</td>\n",
              "      <td>1,60,000</td>\n",
              "      <td>Petrol</td>\n",
              "      <td>NaN</td>\n",
              "    </tr>\n",
              "  </tbody>\n",
              "</table>\n",
              "<p>892 rows × 6 columns</p>\n",
              "</div>\n",
              "      <button class=\"colab-df-convert\" onclick=\"convertToInteractive('df-ca3d1103-468a-4a31-96e4-039171c8afa3')\"\n",
              "              title=\"Convert this dataframe to an interactive table.\"\n",
              "              style=\"display:none;\">\n",
              "        \n",
              "  <svg xmlns=\"http://www.w3.org/2000/svg\" height=\"24px\"viewBox=\"0 0 24 24\"\n",
              "       width=\"24px\">\n",
              "    <path d=\"M0 0h24v24H0V0z\" fill=\"none\"/>\n",
              "    <path d=\"M18.56 5.44l.94 2.06.94-2.06 2.06-.94-2.06-.94-.94-2.06-.94 2.06-2.06.94zm-11 1L8.5 8.5l.94-2.06 2.06-.94-2.06-.94L8.5 2.5l-.94 2.06-2.06.94zm10 10l.94 2.06.94-2.06 2.06-.94-2.06-.94-.94-2.06-.94 2.06-2.06.94z\"/><path d=\"M17.41 7.96l-1.37-1.37c-.4-.4-.92-.59-1.43-.59-.52 0-1.04.2-1.43.59L10.3 9.45l-7.72 7.72c-.78.78-.78 2.05 0 2.83L4 21.41c.39.39.9.59 1.41.59.51 0 1.02-.2 1.41-.59l7.78-7.78 2.81-2.81c.8-.78.8-2.07 0-2.86zM5.41 20L4 18.59l7.72-7.72 1.47 1.35L5.41 20z\"/>\n",
              "  </svg>\n",
              "      </button>\n",
              "      \n",
              "  <style>\n",
              "    .colab-df-container {\n",
              "      display:flex;\n",
              "      flex-wrap:wrap;\n",
              "      gap: 12px;\n",
              "    }\n",
              "\n",
              "    .colab-df-convert {\n",
              "      background-color: #E8F0FE;\n",
              "      border: none;\n",
              "      border-radius: 50%;\n",
              "      cursor: pointer;\n",
              "      display: none;\n",
              "      fill: #1967D2;\n",
              "      height: 32px;\n",
              "      padding: 0 0 0 0;\n",
              "      width: 32px;\n",
              "    }\n",
              "\n",
              "    .colab-df-convert:hover {\n",
              "      background-color: #E2EBFA;\n",
              "      box-shadow: 0px 1px 2px rgba(60, 64, 67, 0.3), 0px 1px 3px 1px rgba(60, 64, 67, 0.15);\n",
              "      fill: #174EA6;\n",
              "    }\n",
              "\n",
              "    [theme=dark] .colab-df-convert {\n",
              "      background-color: #3B4455;\n",
              "      fill: #D2E3FC;\n",
              "    }\n",
              "\n",
              "    [theme=dark] .colab-df-convert:hover {\n",
              "      background-color: #434B5C;\n",
              "      box-shadow: 0px 1px 3px 1px rgba(0, 0, 0, 0.15);\n",
              "      filter: drop-shadow(0px 1px 2px rgba(0, 0, 0, 0.3));\n",
              "      fill: #FFFFFF;\n",
              "    }\n",
              "  </style>\n",
              "\n",
              "      <script>\n",
              "        const buttonEl =\n",
              "          document.querySelector('#df-ca3d1103-468a-4a31-96e4-039171c8afa3 button.colab-df-convert');\n",
              "        buttonEl.style.display =\n",
              "          google.colab.kernel.accessAllowed ? 'block' : 'none';\n",
              "\n",
              "        async function convertToInteractive(key) {\n",
              "          const element = document.querySelector('#df-ca3d1103-468a-4a31-96e4-039171c8afa3');\n",
              "          const dataTable =\n",
              "            await google.colab.kernel.invokeFunction('convertToInteractive',\n",
              "                                                     [key], {});\n",
              "          if (!dataTable) return;\n",
              "\n",
              "          const docLinkHtml = 'Like what you see? Visit the ' +\n",
              "            '<a target=\"_blank\" href=https://colab.research.google.com/notebooks/data_table.ipynb>data table notebook</a>'\n",
              "            + ' to learn more about interactive tables.';\n",
              "          element.innerHTML = '';\n",
              "          dataTable['output_type'] = 'display_data';\n",
              "          await google.colab.output.renderOutput(dataTable, element);\n",
              "          const docLink = document.createElement('div');\n",
              "          docLink.innerHTML = docLinkHtml;\n",
              "          element.appendChild(docLink);\n",
              "        }\n",
              "      </script>\n",
              "    </div>\n",
              "  </div>\n",
              "  "
            ]
          },
          "metadata": {},
          "execution_count": 6
        }
      ]
    },
    {
      "cell_type": "code",
      "source": [
        "df.info()"
      ],
      "metadata": {
        "colab": {
          "base_uri": "https://localhost:8080/"
        },
        "id": "t6WHMbX8-Y5i",
        "outputId": "e6258b93-8ec9-4ed5-a46b-b3c0bf2ec5f0"
      },
      "execution_count": null,
      "outputs": [
        {
          "output_type": "stream",
          "name": "stdout",
          "text": [
            "<class 'pandas.core.frame.DataFrame'>\n",
            "RangeIndex: 892 entries, 0 to 891\n",
            "Data columns (total 6 columns):\n",
            " #   Column      Non-Null Count  Dtype \n",
            "---  ------      --------------  ----- \n",
            " 0   name        892 non-null    object\n",
            " 1   company     892 non-null    object\n",
            " 2   year        892 non-null    object\n",
            " 3   Price       892 non-null    object\n",
            " 4   kms_driven  840 non-null    object\n",
            " 5   fuel_type   837 non-null    object\n",
            "dtypes: object(6)\n",
            "memory usage: 41.9+ KB\n"
          ]
        }
      ]
    },
    {
      "cell_type": "code",
      "source": [
        "#Converting our Date column\n",
        "df['year'].isna().sum() "
      ],
      "metadata": {
        "colab": {
          "base_uri": "https://localhost:8080/"
        },
        "id": "N84hEiZR-jJQ",
        "outputId": "b22b48e4-8bc3-44fd-dc36-fd17db13b874"
      },
      "execution_count": null,
      "outputs": [
        {
          "output_type": "execute_result",
          "data": {
            "text/plain": [
              "0"
            ]
          },
          "metadata": {},
          "execution_count": 8
        }
      ]
    },
    {
      "cell_type": "code",
      "source": [
        "df = df[df['year'].str.isnumeric()]\n",
        "df['year'] = df['year'].astype(int)"
      ],
      "metadata": {
        "colab": {
          "base_uri": "https://localhost:8080/"
        },
        "id": "AmMIejsr--8C",
        "outputId": "f0d5b3ce-cc03-4d16-bea7-ac097bdf2da2"
      },
      "execution_count": null,
      "outputs": [
        {
          "output_type": "stream",
          "name": "stderr",
          "text": [
            "<ipython-input-9-90b3bef004f2>:2: SettingWithCopyWarning: \n",
            "A value is trying to be set on a copy of a slice from a DataFrame.\n",
            "Try using .loc[row_indexer,col_indexer] = value instead\n",
            "\n",
            "See the caveats in the documentation: https://pandas.pydata.org/pandas-docs/stable/user_guide/indexing.html#returning-a-view-versus-a-copy\n",
            "  df['year'] = df['year'].astype(int)\n"
          ]
        }
      ]
    },
    {
      "cell_type": "code",
      "source": [
        "df = df[df['Price'].str.isnumeric()]\n"
      ],
      "metadata": {
        "id": "nOslrfOW_7aa"
      },
      "execution_count": null,
      "outputs": []
    },
    {
      "cell_type": "code",
      "source": [
        "df['Price'] =  df['Price'].str.replace(',','')"
      ],
      "metadata": {
        "id": "NH9fICLxHWPh"
      },
      "execution_count": null,
      "outputs": []
    }
  ]
}